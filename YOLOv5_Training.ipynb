{
  "cells": [
    {
      "cell_type": "markdown",
      "source": [
        "# **Set Up**"
      ],
      "metadata": {
        "id": "OBQxKR3QN4We"
      }
    },
    {
      "cell_type": "markdown",
      "source": [
        "Clone YOLOv5, install requirements, do imports"
      ],
      "metadata": {
        "id": "c_OdCmKRN6Oy"
      }
    },
    {
      "cell_type": "code",
      "execution_count": null,
      "metadata": {
        "id": "_NjoUlYjN2Sr"
      },
      "outputs": [],
      "source": [
        "# clone YOLOv5 repository\n",
        "\n",
        "!git clone https://github.com/ultralytics/yolov5\n",
        "%cd yolov5\n",
        "!git reset --hard fbe67e465375231474a2ad80a4389efc77ecff99"
      ]
    },
    {
      "cell_type": "code",
      "execution_count": null,
      "metadata": {
        "collapsed": true,
        "id": "PTb8zEoiN2Sr"
      },
      "outputs": [],
      "source": [
        "%pip install -qr requirements.txt\n",
        "\n",
        "import torch\n",
        "import torchvision\n",
        "import sys\n",
        "\n",
        "import pandas as pd\n",
        "import matplotlib.pyplot as plt"
      ]
    },
    {
      "cell_type": "markdown",
      "source": [
        "YOLOv5 uses an older version of numpy, so a file needs to be updated in order to work"
      ],
      "metadata": {
        "id": "FMLaCj2TOAvz"
      }
    },
    {
      "cell_type": "code",
      "execution_count": null,
      "metadata": {
        "id": "2SPFXvpSN2Ss"
      },
      "outputs": [],
      "source": [
        "with open('./utils/dataloaders.py', 'r') as f:\n",
        "    lines = f.readlines()\n",
        "\n",
        "# change all instances of \"np.int\" with \"np.int64\"\n",
        "for i, line in enumerate(lines):\n",
        "    if 'np.int' in line:\n",
        "        lines[i] = line.replace('np.int', 'np.int64')\n",
        "\n",
        "# Write the changes back to the file\n",
        "with open('./utils/dataloaders.py', 'w') as f:\n",
        "    f.writelines(lines)\n",
        "\n",
        "\n",
        "print(\"File updated\")"
      ]
    },
    {
      "cell_type": "markdown",
      "source": [
        "System checks"
      ],
      "metadata": {
        "id": "k86LlpzTON8B"
      }
    },
    {
      "cell_type": "code",
      "execution_count": null,
      "metadata": {
        "id": "X5aYMQe7N2Ss"
      },
      "outputs": [],
      "source": [
        "print(torch.__version__)\n",
        "print(torchvision.__version__)\n",
        "print(torch.cuda.is_available())  # true if CUDA is available\n",
        "print(torch.cuda.get_device_name(0))  # name of GPU\n",
        "\n",
        "print(sys.version) # currently python 3.11 doesn't work with CUDA"
      ]
    },
    {
      "cell_type": "code",
      "execution_count": null,
      "metadata": {
        "collapsed": true,
        "id": "Lt_2qQTGN2St"
      },
      "outputs": [],
      "source": [
        "device = 'cuda' if torch.cuda.is_available() else 'cpu'\n",
        "print(f\"Using device: {device}\")"
      ]
    },
    {
      "cell_type": "code",
      "execution_count": null,
      "metadata": {
        "id": "a36ktn20N2St"
      },
      "outputs": [],
      "source": [
        "## optional: ensures model is training on CUDA\n",
        "\n",
        "from models.common import DetectMultiBackend\n",
        "\n",
        "model = DetectMultiBackend('yolov5s.pt', device=device)\n",
        "model.to(device)\n",
        "\n",
        "# to confirm\n",
        "print(model)"
      ]
    },
    {
      "cell_type": "markdown",
      "source": [
        "# **Training**"
      ],
      "metadata": {
        "id": "qnG5SPnpO20K"
      }
    },
    {
      "cell_type": "markdown",
      "source": [
        "Train model with hyperparameters\n",
        "- img size 416 (for speed)\n",
        "- batch size 64\n",
        "- 50 epochs\n",
        "- yaml files that tell the model what data and model to use\n",
        "- empty weights"
      ],
      "metadata": {
        "id": "vwnAqEUqO33s"
      }
    },
    {
      "cell_type": "code",
      "execution_count": null,
      "metadata": {
        "collapsed": true,
        "id": "e8_FYu4IN2St"
      },
      "outputs": [],
      "source": [
        "# start training\n",
        "# you have to be in the ./yolov5 folder\n",
        "\n",
        "!python train.py --img 416 --batch 64 --epochs 50 --data data/VOC.yaml --cfg models/yolov5s.yaml --weights ''"
      ]
    },
    {
      "cell_type": "markdown",
      "source": [
        "# **Plotting and Validation**"
      ],
      "metadata": {
        "id": "gm5oKvHyPz4o"
      }
    },
    {
      "cell_type": "markdown",
      "source": [
        "For analysing purposes, plots the mAP over the epochs"
      ],
      "metadata": {
        "id": "a0QML-a1P25H"
      }
    },
    {
      "cell_type": "code",
      "execution_count": null,
      "metadata": {
        "collapsed": true,
        "id": "eDrPBI3aN2Su"
      },
      "outputs": [],
      "source": [
        "# path to results.csv file (adjust path if necessary)\n",
        "results_file = 'runs/train/exp26/results.csv'\n",
        "\n",
        "df = pd.read_csv(results_file)\n",
        "\n",
        "# strip leading/trailing spaces\n",
        "df.columns = df.columns.str.strip()\n",
        "\n",
        "plt.figure(figsize=(10, 6))\n",
        "\n",
        "# plot mAP values\n",
        "plt.subplot(2, 1, 2)\n",
        "plt.plot(df['epoch'], df['metrics/mAP_0.5'], label='mAP@0.5', color='blue')\n",
        "plt.plot(df['epoch'], df['metrics/mAP_0.5:0.95'], label='mAP@0.5:0.95', color='green')\n",
        "plt.xlabel('Epochs')\n",
        "plt.ylabel('mAP')\n",
        "plt.title('mAP vs Epochs')\n",
        "plt.legend()\n",
        "plt.grid(True)\n",
        "\n",
        "# show/save the plot\n",
        "#plt.tight_layout()\n",
        "#plt.show()\n",
        "plt.savefig(\"mAP_vs_epochs.png\")"
      ]
    },
    {
      "cell_type": "markdown",
      "source": [
        "To assess the model on a new set, validate it and collect resulting metrics"
      ],
      "metadata": {
        "id": "vfcVdNitQACv"
      }
    },
    {
      "cell_type": "code",
      "execution_count": null,
      "metadata": {
        "collapsed": true,
        "id": "yTXSImntN2Su"
      },
      "outputs": [],
      "source": [
        "# start validation\n",
        "# you have to be in the ./yolov5 folder\n",
        "# adjust weights path as necessary\n",
        "\n",
        "!python val.py --img 416 --batch 64 --data data/VOC.yaml --weights ./runs/train/exp26/weights/best.pt"
      ]
    }
  ],
  "metadata": {
    "kernelspec": {
      "display_name": ".venv",
      "language": "python",
      "name": "python3"
    },
    "language_info": {
      "codemirror_mode": {
        "name": "ipython",
        "version": 3
      },
      "file_extension": ".py",
      "mimetype": "text/x-python",
      "name": "python",
      "nbconvert_exporter": "python",
      "pygments_lexer": "ipython3",
      "version": "3.10.9"
    },
    "colab": {
      "provenance": [],
      "collapsed_sections": [
        "OBQxKR3QN4We",
        "qnG5SPnpO20K"
      ]
    }
  },
  "nbformat": 4,
  "nbformat_minor": 0
}